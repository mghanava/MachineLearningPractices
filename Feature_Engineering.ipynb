{
 "nbformat": 4,
 "nbformat_minor": 2,
 "metadata": {
  "language_info": {
   "name": "python",
   "codemirror_mode": {
    "name": "ipython",
    "version": 3
   },
   "version": "3.7.4"
  },
  "orig_nbformat": 2,
  "file_extension": ".py",
  "mimetype": "text/x-python",
  "name": "python",
  "npconvert_exporter": "python",
  "pygments_lexer": "ipython3",
  "version": 3
 },
 "cells": [
  {
   "cell_type": "markdown",
   "execution_count": null,
   "metadata": {},
   "outputs": [],
   "source": [
    "## Taking whatever information available about a problem and turning it into numbers to build the feature matrix is called </em>feature engineering</em>."
   ]
  },
  {
   "cell_type": "markdown",
   "execution_count": null,
   "metadata": {},
   "outputs": [],
   "source": [
    "## Categorical Features"
   ]
  },
  {
   "cell_type": "code",
   "execution_count": 4,
   "metadata": {},
   "outputs": [],
   "source": [
    "data = [\n",
    "    {'price': 850000, 'rooms': 4, 'neighborhood': 'Queen Anne'},\n",
    "    {'price': 700000, 'rooms': 3, 'neighborhood': 'Fremont'},\n",
    "    {'price': 650000, 'rooms': 3, 'neighborhood': 'Wallingford'},\n",
    "    {'price': 600000, 'rooms': 2, 'neighborhood': 'Fremont'}\n",
    "]"
   ]
  },
  {
   "cell_type": "code",
   "execution_count": 5,
   "metadata": {},
   "outputs": [
    {
     "data": {
      "text/plain": "(array([[     0,      1,      0, 850000,      4],\n        [     1,      0,      0, 700000,      3],\n        [     0,      0,      1, 650000,      3],\n        [     1,      0,      0, 600000,      2]]),\n ['neighborhood=Fremont',\n  'neighborhood=Queen Anne',\n  'neighborhood=Wallingford',\n  'price',\n  'rooms'])"
     },
     "execution_count": 5,
     "metadata": {},
     "output_type": "execute_result"
    }
   ],
   "source": [
    "from sklearn.feature_extraction import DictVectorizer\n",
    "# sparse=True when the category has many possible values and hence dataset size is greatly increased\n",
    "# Mnay of the Scikit-Learn estimators accept such sparse inputs when fitting and evaluating models.  \n",
    "# If sparse inputs are not accepted directly, Scikit-Learn provides some tools to support this type of coding.  \n",
    "vec = DictVectorizer(sparse=False, dtype=int)    \n",
    "vec.fit_transform(data), vec.get_feature_names()"
   ]
  },
  {
   "cell_type": "code",
   "execution_count": null,
   "metadata": {},
   "outputs": [],
   "source": [
    "from sklearn.feature_extraction.F"
   ]
  }
 ]
}